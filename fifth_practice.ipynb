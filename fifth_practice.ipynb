{
 "cells": [
  {
   "cell_type": "markdown",
   "id": "49528206",
   "metadata": {},
   "source": [
    "## Практическая работа №5"
   ]
  },
  {
   "cell_type": "code",
   "execution_count": 126,
   "id": "c4db32e4",
   "metadata": {},
   "outputs": [],
   "source": [
    "import random\n",
    "import numpy as np\n",
    "import pandas as pd\n",
    "import matplotlib.pyplot as plt\n",
    "import seaborn as sns\n",
    "import glob\n",
    "import cv2\n",
    "import os"
   ]
  },
  {
   "cell_type": "markdown",
   "id": "53d2c002",
   "metadata": {},
   "source": [
    "Перед тем, как подавать фотографии на вход нейронной сети, их необходимо привести к одному размеру вида (ширина, высота). Для ширины и высоты в нашем случае были выбраны значения по 250 соответствено."
   ]
  },
  {
   "cell_type": "code",
   "execution_count": 127,
   "id": "4f7d3bc0",
   "metadata": {},
   "outputs": [],
   "source": [
    "directory = 'C:/Users/bulen/Desktop/dataset/'\n",
    "classes = [\"milonov\", \"poperechniy\"]\n",
    "\n",
    "all_images = []\n",
    "image_size = 250\n",
    "\n",
    "for name in classes:\n",
    "    current_path = os.path.join(directory, name)\n",
    "    class_number = classes.index(name)\n",
    "    for image in os.listdir(current_path):\n",
    "        current_image = cv2.imread(os.path.join(current_path, image))\n",
    "        current_image = cv2.cvtColor(current_image, cv2.COLOR_BGR2RGB)\n",
    "        current_image = cv2.resize(current_image, (image_size, image_size), interpolation = cv2.INTER_AREA)\n",
    "        all_images.append([current_image, class_number])"
   ]
  },
  {
   "cell_type": "code",
   "execution_count": 129,
   "id": "d73280e9",
   "metadata": {},
   "outputs": [],
   "source": [
    "random.shuffle(all_images)\n",
    "\n",
    "X_images = []\n",
    "Y_images = []\n",
    "for features, label in all_images:\n",
    "    X_images.append(features)\n",
    "    Y_images.append(label)\n",
    "X_images = np.array(X_images)\n",
    "Y_images = np.array(Y_images)"
   ]
  },
  {
   "cell_type": "code",
   "execution_count": 130,
   "id": "1c14e999",
   "metadata": {},
   "outputs": [
    {
     "name": "stdout",
     "output_type": "stream",
     "text": [
      "Shape of X_images: (499, 250, 250, 3)\n"
     ]
    }
   ],
   "source": [
    "X_images = X_images.reshape(-1, image_size, image_size, 3)\n",
    "X_images = X_images / 255\n",
    "print(\"Shape of X_images:\", X_images.shape)"
   ]
  },
  {
   "cell_type": "code",
   "execution_count": 131,
   "id": "2a90762a",
   "metadata": {},
   "outputs": [],
   "source": [
    "from keras.utils import to_categorical\n",
    "Y_images = to_categorical(Y_images, num_classes = 2)"
   ]
  },
  {
   "cell_type": "markdown",
   "id": "355d6d4e",
   "metadata": {},
   "source": [
    "В силу малого количества фотографий было решено выделить на обучающую выборку 90% от общего числа фотографий, соответственно на тестирование - 10% "
   ]
  },
  {
   "cell_type": "code",
   "execution_count": 132,
   "id": "8253dba7",
   "metadata": {},
   "outputs": [
    {
     "name": "stdout",
     "output_type": "stream",
     "text": [
      "Shape of X_train: (449, 250, 250, 3) and shape of X_test: (50, 250, 250, 3)\n",
      "Shape of Y_train: (449, 2) and shape of Y_test: (50, 2)\n"
     ]
    }
   ],
   "source": [
    "from sklearn.metrics import confusion_matrix\n",
    "import itertools\n",
    "from sklearn.model_selection import train_test_split\n",
    "X_train, X_test, Y_train, Y_test = train_test_split(X_images, Y_images, test_size = 0.10, random_state = 42)\n",
    "print(\"Shape of X_train:\", X_train.shape, \"and shape of X_test:\", X_test.shape)\n",
    "print(\"Shape of Y_train:\", Y_train.shape, \"and shape of Y_test:\", Y_test.shape)"
   ]
  },
  {
   "cell_type": "code",
   "execution_count": 133,
   "id": "6cebb7f9",
   "metadata": {},
   "outputs": [],
   "source": [
    "from keras.models import Sequential\n",
    "from keras.layers import Dense, Flatten, Conv2D, MaxPool2D\n",
    "from keras.optimizers import Adam\n",
    "from keras.callbacks import ReduceLROnPlateau\n",
    "\n",
    "model = Sequential()\n",
    "model.add(Conv2D(filters = 8, kernel_size = (4, 4), padding = \"Same\", activation = \"relu\", input_shape = (250, 250, 3)))\n",
    "model.add(MaxPool2D(pool_size = (2, 2)))\n",
    "model.add(Conv2D(filters = 16, kernel_size = (4, 4), padding = \"Same\", activation = \"relu\"))\n",
    "model.add(MaxPool2D(pool_size = (2, 2)))\n",
    "model.add(Conv2D(filters = 32, kernel_size = (5, 5), padding = \"Same\", activation = \"relu\"))\n",
    "model.add(MaxPool2D(pool_size = (2, 2)))\n",
    "\n",
    "model.add(Flatten())\n",
    "model.add(Dense(6, activation = \"relu\"))\n",
    "model.add(Dense(2, activation = \"softmax\"))"
   ]
  },
  {
   "cell_type": "code",
   "execution_count": 134,
   "id": "a54e3d0f",
   "metadata": {},
   "outputs": [],
   "source": [
    "optimizer = Adam(learning_rate = 0.001)\n",
    "\n",
    "model.compile(optimizer = optimizer,\n",
    "              loss = \"categorical_crossentropy\",\n",
    "              metrics = ['accuracy'])\n",
    "\n",
    "epochs = 10\n",
    "batch_size = 32"
   ]
  },
  {
   "cell_type": "code",
   "execution_count": 135,
   "id": "6c6a6b81",
   "metadata": {},
   "outputs": [
    {
     "name": "stdout",
     "output_type": "stream",
     "text": [
      "Epoch 1/10\n",
      "14/14 [==============================] - 9s 567ms/step - loss: 0.6576 - accuracy: 0.6362\n",
      "Epoch 2/10\n",
      "14/14 [==============================] - 7s 532ms/step - loss: 0.5069 - accuracy: 0.7866\n",
      "Epoch 3/10\n",
      "14/14 [==============================] - 7s 488ms/step - loss: 0.3911 - accuracy: 0.8345\n",
      "Epoch 4/10\n",
      "14/14 [==============================] - 7s 486ms/step - loss: 0.3366 - accuracy: 0.8465\n",
      "Epoch 5/10\n",
      "14/14 [==============================] - 7s 486ms/step - loss: 0.3134 - accuracy: 0.8873\n",
      "Epoch 6/10\n",
      "14/14 [==============================] - 7s 487ms/step - loss: 0.2708 - accuracy: 0.8825\n",
      "Epoch 7/10\n",
      "14/14 [==============================] - 7s 486ms/step - loss: 0.2104 - accuracy: 0.9185\n",
      "Epoch 8/10\n",
      "14/14 [==============================] - 7s 490ms/step - loss: 0.1549 - accuracy: 0.9329\n",
      "Epoch 9/10\n",
      "14/14 [==============================] - 7s 490ms/step - loss: 0.1174 - accuracy: 0.9568\n",
      "Epoch 10/10\n",
      "14/14 [==============================] - 7s 484ms/step - loss: 0.1141 - accuracy: 0.9616\n"
     ]
    },
    {
     "data": {
      "text/plain": [
       "<keras.callbacks.History at 0x214190bdf70>"
      ]
     },
     "execution_count": 135,
     "metadata": {},
     "output_type": "execute_result"
    }
   ],
   "source": [
    "model.fit(X_train, Y_train, batch_size = batch_size, epochs = epochs, steps_per_epoch = X_train.shape[0] // batch_size)"
   ]
  },
  {
   "cell_type": "code",
   "execution_count": 136,
   "id": "b5d7db31",
   "metadata": {},
   "outputs": [
    {
     "name": "stdout",
     "output_type": "stream",
     "text": [
      "WARNING:tensorflow:5 out of the last 14 calls to <function Model.make_predict_function.<locals>.predict_function at 0x00000214190945E0> triggered tf.function retracing. Tracing is expensive and the excessive number of tracings could be due to (1) creating @tf.function repeatedly in a loop, (2) passing tensors with different shapes, (3) passing Python objects instead of tensors. For (1), please define your @tf.function outside of the loop. For (2), @tf.function has reduce_retracing=True option that can avoid unnecessary retracing. For (3), please refer to https://www.tensorflow.org/guide/function#controlling_retracing and https://www.tensorflow.org/api_docs/python/tf/function for  more details.\n",
      "2/2 [==============================] - 0s 69ms/step\n"
     ]
    },
    {
     "data": {
      "image/png": "[encoded data removed]",
      "text/plain": [
       "<Figure size 1000x1000 with 2 Axes>"
      ]
     },
     "metadata": {},
     "output_type": "display_data"
    }
   ],
   "source": [
    "y_prediction = model.predict(X_test)\n",
    "y_prediction_classes = np.argmax(y_prediction, axis = 1)\n",
    "y_true = np.argmax(Y_test, axis = 1)\n",
    "conf_matrix = confusion_matrix(y_true, y_prediction_classes)\n",
    "df = pd.DataFrame(conf_matrix, range(2), range(2))\n",
    "plt.figure(figsize = (10, 10))\n",
    "sns.set(font_scale = 1.5)\n",
    "sns.heatmap(df, annot = True)\n",
    "plt.show()"
   ]
  }
 ],
 "metadata": {
  "kernelspec": {
   "display_name": "Python 3 (ipykernel)",
   "language": "python",
   "name": "python3"
  },
  "language_info": {
   "codemirror_mode": {
    "name": "ipython",
    "version": 3
   },
   "file_extension": ".py",
   "mimetype": "text/x-python",
   "name": "python",
   "nbconvert_exporter": "python",
   "pygments_lexer": "ipython3",
   "version": "3.9.13"
  }
 },
 "nbformat": 4,
 "nbformat_minor": 5
}
